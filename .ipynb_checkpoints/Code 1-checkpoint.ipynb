{
 "cells": [
  {
   "cell_type": "code",
   "execution_count": null,
   "metadata": {
    "collapsed": true
   },
   "outputs": [],
   "source": [
    "import matplotlib\n",
    "import matplotlib.pyplot as plt\n",
    "import matplotlib.ticker as mticker\n",
    "import matplotlib.dates as mdates\n",
    "import numpy as np\n",
    "\n",
    "print(\"here\")\n",
    "\n",
    "date,bid,ask = np.loadtxt('./GBPUSD1d.txt', \n",
    "                              unpack=True, \n",
    "                              delimiter=',',\n",
    "                              converters={0: mdates.bytespdate2num(\"%Y%m%d%H%M%S\")})\n",
    "\n",
    "\n",
    "def graph_raw_fx():\n",
    "    fig = plt.figure(figsize=(10,7))\n",
    "    ax1 = plt.subplot2grid((40,40), (0,0), rowspan=40, colspan=40)\n",
    "    ax1.plot(date, bid)\n",
    "    ax1.plot(date, ask)\n",
    "    \n",
    "    plt.gca().get_yaxis().get_major_formatter().set_useOffset(False)\n",
    "    \n",
    "    ax1.xaxis.set_major_formatter(mdates.DateFormatter('%Y-%m-%d %H:%M:%S'))\n",
    "    for label in ax1.xaxis.get_ticklabels():\n",
    "        label.set_rotation(45)\n",
    "        \n",
    "    ax1_2 = ax1.twinx()\n",
    "    # ask - bid == spread\n",
    "    ax1_2.fill_between(date, 0, (ask-bid), facecolor='g', alpha=.3) \n",
    "\n",
    "    plt.subplots_adjust(bottom=.23)\n",
    "    \n",
    "    plt.grid(True)\n",
    "    plt.show()\n",
    "\n",
    "graph_raw_fx()"
   ]
  },
  {
   "cell_type": "code",
   "execution_count": null,
   "metadata": {
    "collapsed": true
   },
   "outputs": [],
   "source": [
    "\n",
    "        "
   ]
  },
  {
   "cell_type": "code",
   "execution_count": null,
   "metadata": {
    "collapsed": true
   },
   "outputs": [],
   "source": []
  },
  {
   "cell_type": "code",
   "execution_count": null,
   "metadata": {
    "collapsed": true
   },
   "outputs": [],
   "source": []
  }
 ],
 "metadata": {
  "kernelspec": {
   "display_name": "Python 3",
   "language": "python",
   "name": "python3"
  },
  "language_info": {
   "codemirror_mode": {
    "name": "ipython",
    "version": 3
   },
   "file_extension": ".py",
   "mimetype": "text/x-python",
   "name": "python",
   "nbconvert_exporter": "python",
   "pygments_lexer": "ipython3",
   "version": "3.6.1"
  }
 },
 "nbformat": 4,
 "nbformat_minor": 2
}
