{
 "cells": [
  {
   "cell_type": "code",
   "execution_count": 3,
   "metadata": {},
   "outputs": [],
   "source": [
    "import matplotlib\n",
    "import matplotlib.pyplot as plt\n",
    "import matplotlib.ticker as mticker\n",
    "import matplotlib.dates as mdates\n",
    "import numpy as np\n",
    "\n",
    "date,bid,ask = np.loadtxt('./GBPUSD1d.txt', \n",
    "                              unpack=True, \n",
    "                              delimiter=',',\n",
    "                              converters={0: mdates.bytespdate2num(\"%Y%m%d%H%M%S\")})\n",
    "\n",
    "def percent_change(start, current):\n",
    "    return ((current - start) / float(start)) * 100\n",
    "\n",
    "def pattern_finder():\n",
    "    avg_line = ((bid+ask)/2)\n",
    "    x = len(avg_line) - 30\n",
    "    \n",
    "    y = 11\n",
    "    while y < x:\n",
    "        p1  = percent_change(avg_line[y-10], avg_line[y-9])\n",
    "        p2  = percent_change(avg_line[y-10], avg_line[y-8])\n",
    "        p3  = percent_change(avg_line[y-10], avg_line[y-7])\n",
    "        p4  = percent_change(avg_line[y-10], avg_line[y-6])\n",
    "        p5  = percent_change(avg_line[y-10], avg_line[y-5])\n",
    "        p6  = percent_change(avg_line[y-10], avg_line[y-4])\n",
    "        p7  = percent_change(avg_line[y-10], avg_line[y-3])\n",
    "        p8  = percent_change(avg_line[y-10], avg_line[y-2])\n",
    "        p9  = percent_change(avg_line[y-10], avg_line[y-1])\n",
    "        p10 = percent_change(avg_line[y-10], avg_line[y])\n",
    "    \n",
    "        outcome_range = avg_line[y+20:y+30]\n",
    "        current_point = avg_line[y]\n",
    "        \n",
    "        print(float(sum(outcome_range)) / len(outcome_range))\n",
    "        print(p1, p2, p3, p4, p5, p6, p7, p8, p9, p10)\n",
    "        y += 1\n",
    "\n",
    "# pattern_finder()"
   ]
  },
  {
   "cell_type": "code",
   "execution_count": null,
   "metadata": {
    "collapsed": true
   },
   "outputs": [],
   "source": []
  }
 ],
 "metadata": {
  "kernelspec": {
   "display_name": "Python 3",
   "language": "python",
   "name": "python3"
  },
  "language_info": {
   "codemirror_mode": {
    "name": "ipython",
    "version": 3
   },
   "file_extension": ".py",
   "mimetype": "text/x-python",
   "name": "python",
   "nbconvert_exporter": "python",
   "pygments_lexer": "ipython3",
   "version": "3.6.1"
  }
 },
 "nbformat": 4,
 "nbformat_minor": 2
}
